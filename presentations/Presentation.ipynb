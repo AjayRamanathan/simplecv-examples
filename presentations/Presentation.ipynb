{
 "metadata": {
  "name": "Presentation"
 },
 "nbformat": 3,
 "nbformat_minor": 0,
 "worksheets": [
  {
   "cells": [
    {
     "cell_type": "code",
     "collapsed": false,
     "input": [
      "cd timgs"
     ],
     "language": "python",
     "metadata": {},
     "outputs": []
    },
    {
     "cell_type": "code",
     "collapsed": false,
     "input": [
      "img = Image('cardtext.jpg')\n",
      "img.scale(0.3).show()\n"
     ],
     "language": "python",
     "metadata": {},
     "outputs": []
    },
    {
     "cell_type": "code",
     "collapsed": false,
     "input": [
      "img = Image('simplecv')\n",
      "img.show()\n",
      "img.invert().show()"
     ],
     "language": "python",
     "metadata": {},
     "outputs": []
    },
    {
     "cell_type": "code",
     "collapsed": false,
     "input": [
      "#SimpleCV Makes it easy to do computer vision tasks like Optical Character Recognition\n",
      "img = Image('cardtext.jpg')\n",
      "text=img.readText()\n",
      "text = text[13:-32]\n",
      "print text"
     ],
     "language": "python",
     "metadata": {},
     "outputs": []
    },
    {
     "cell_type": "code",
     "collapsed": false,
     "input": [],
     "language": "python",
     "metadata": {},
     "outputs": []
    },
    {
     "cell_type": "code",
     "collapsed": false,
     "input": [
      "# We wanted to avoid this \n",
      "# import cv2\n",
      "# import pil \n",
      "# import scipy as sp\n",
      "# import pygame as pg\n",
      "# import orange \n",
      "# import ... lots of other stuff\n",
      "# import make it all work together\n",
      "# or you can import simplecv"
     ],
     "language": "python",
     "metadata": {},
     "outputs": []
    },
    {
     "cell_type": "code",
     "collapsed": false,
     "input": [
      "# So really what we wanted to do is make everything easy.\n",
      "# So easy kids and people with a passing interest could do it.\n",
      "import webbrowser\n",
      "webbrowser.open('http://shop.oreilly.com/product/0636920024057.do')\n",
      "webbrowser.open('http://help.simplecv.org')\n",
      "webbrowser.open('http://www.simplecv.org')"
     ],
     "language": "python",
     "metadata": {},
     "outputs": []
    },
    {
     "cell_type": "code",
     "collapsed": false,
     "input": [
      "img = Image('rasppi.jpg')\n",
      "img = img.scale(0.7)\n",
      "#img.show()\n",
      "img = img.edges()\n",
      "img.drawText('RASPBERRY PI SUPPORTS SIMPLECV',10,10,color=Color.HOTPINK,fontsize=28)\n",
      "img.drawText('STOP BY THE LAB AND WE CAN HELP.',40,330,color=Color.HOTPINK,fontsize=28)\n",
      "img.show()"
     ],
     "language": "python",
     "metadata": {},
     "outputs": []
    },
    {
     "cell_type": "code",
     "collapsed": false,
     "input": [
      "webbrowser.open('https://github.com/ingenuitas/SimpleCV/blob/develop/doc/HOWTO-Install%20on%20RaspberryPi.rst')"
     ],
     "language": "python",
     "metadata": {},
     "outputs": []
    },
    {
     "cell_type": "code",
     "collapsed": false,
     "input": [
      "# So where you are motivates what you do\n",
      "img = Image('michigan.jpg')\n",
      "img.drawText('Michigan!',10,10,color=Color.YELLOW,fontsize=64)\n",
      "img.show()"
     ],
     "language": "python",
     "metadata": {},
     "outputs": []
    },
    {
     "cell_type": "code",
     "collapsed": false,
     "input": [],
     "language": "python",
     "metadata": {},
     "outputs": []
    },
    {
     "cell_type": "code",
     "collapsed": false,
     "input": [
      "# The third coast. \n",
      "# let's outline the lakes in blue\n",
      "mask = img.hueDistance(120).invert().threshold(60)\n",
      "blobs = img.findBlobsFromMask(mask,minsize=200)\n",
      "for b in blobs:\n",
      "    b.drawHull(color=Color.BLUE, width=4)\n",
      "img.show()"
     ],
     "language": "python",
     "metadata": {},
     "outputs": []
    },
    {
     "cell_type": "code",
     "collapsed": false,
     "input": [],
     "language": "python",
     "metadata": {},
     "outputs": []
    },
    {
     "cell_type": "code",
     "collapsed": false,
     "input": [
      "# We're from Michigan which means we do a lot \n",
      "# with manufacturing quality control.\n",
      "iset = ImageSet()\n",
      "iset.download('manufacturing') # Let's ask google to show us what that looks like\n",
      "iset.show() "
     ],
     "language": "python",
     "metadata": {},
     "outputs": []
    },
    {
     "cell_type": "code",
     "collapsed": false,
     "input": [
      "webbrowser.open('http://www.sightmachine.com')"
     ],
     "language": "python",
     "metadata": {},
     "outputs": []
    },
    {
     "cell_type": "code",
     "collapsed": false,
     "input": [
      "img = Image('shannon.jpg')\n",
      "img.show()"
     ],
     "language": "python",
     "metadata": {},
     "outputs": []
    },
    {
     "cell_type": "code",
     "collapsed": false,
     "input": [
      "webbrowser.open('http://arc.demo.sightmachine.com/#stats/Overview_tab ')"
     ],
     "language": "python",
     "metadata": {},
     "outputs": []
    },
    {
     "cell_type": "code",
     "collapsed": false,
     "input": [
      "img = Image('pike.jpg')\n",
      "img = img.scale(0.5)\n",
      "img.drawText(\"The Northern Pike\",10,10,color=Color.YELLOW,fontsize=36)\n",
      "img.show()"
     ],
     "language": "python",
     "metadata": {},
     "outputs": []
    },
    {
     "cell_type": "code",
     "collapsed": false,
     "input": [
      "img2 = img.flipVertical()\n",
      "img2.drawText('Northern Pike - Not Well Fed',10,10,color=Color.YELLOW,fontsize=32)\n",
      "img2.drawText('X',320,110,color=Color.BLACK,fontsize=48)\n",
      "img2.show()"
     ],
     "language": "python",
     "metadata": {},
     "outputs": []
    },
    {
     "cell_type": "code",
     "collapsed": false,
     "input": [
      "#HELLO WORLD\n",
      "#Camera Streaming Demo"
     ],
     "language": "python",
     "metadata": {},
     "outputs": []
    },
    {
     "cell_type": "code",
     "collapsed": false,
     "input": [
      "img = Image('cookies.jpg')\n",
      "img.show()\n",
      "# find our cookes and draw them red, filled in\n",
      "blobs = img.findBlobs(threshval=128, minsize=200)\n",
      "blobs.draw(width=-1, color=Color.RED) #autocolor= True)\n",
      "img.show()\n",
      "# find the mean and std blob areas\n"
     ],
     "language": "python",
     "metadata": {},
     "outputs": []
    },
    {
     "cell_type": "code",
     "collapsed": false,
     "input": [
      "areaAvg = np.mean(blobs.area())\n",
      "areaStd = np.std(blobs.area())\n",
      "# filter the cookies by area and draw those green\n",
      "lilcookies = blobs.filter(blobs.area() < areaAvg+2.5*areaStd  )\n",
      "lilcookies.draw(width=-1,color=Color.GREEN)\n",
      "img.show()"
     ],
     "language": "python",
     "metadata": {},
     "outputs": []
    },
    {
     "cell_type": "code",
     "collapsed": false,
     "input": [
      "# Now sort the cookies so the yellow ones are at at 0\n",
      "lilcookies = lilcookies.sortColorDistance(color=Color.YELLOW)\n",
      "lilcookies[0:4].draw(width=-1,color=Color.YELLOW)\n",
      "img.show()"
     ],
     "language": "python",
     "metadata": {},
     "outputs": []
    },
    {
     "cell_type": "code",
     "collapsed": false,
     "input": [
      "# Now take our yellow cookies and see how\n",
      "# far they are away from the top right corner\n",
      "dists = lilcookies[0:4].distanceFrom((img.width,0))\n",
      "# find the closest one to the corner\n",
      "location = np.where(dists==np.min(dists))[0][0]\n",
      "lilcookies[location].crop().show()\n",
      "lilcookies[location].draw(width=-1,color=Color.HOTPINK)\n",
      "img.show()"
     ],
     "language": "python",
     "metadata": {},
     "outputs": []
    },
    {
     "cell_type": "code",
     "collapsed": false,
     "input": [
      "img = Image('hallway.jpg')\n",
      "img.show()\n",
      "img.edges().show()\n",
      "lines = img.findLines()\n",
      "lines = lines.filter(lines.length() > 50 )\n",
      "lines.show(width=3)\n"
     ],
     "language": "python",
     "metadata": {},
     "outputs": []
    },
    {
     "cell_type": "code",
     "collapsed": false,
     "input": [
      "vertical = lines.filter((np.abs(lines.angle()) > 80))\n",
      "horizontal = lines.filter(np.abs(lines.angle()) < 10 )\n",
      "vertical.draw(width=3,color=Color.RED)\n",
      "horizontal.draw(width=3,color=Color.BLUE)\n",
      "img.show()"
     ],
     "language": "python",
     "metadata": {},
     "outputs": []
    },
    {
     "cell_type": "code",
     "collapsed": false,
     "input": [
      "#Let's do some basic face finding\n",
      "img1 = Image('tricky.jpg')\n",
      "img2 = Image('picard.jpg')\n",
      "face1 = img1.findHaarFeatures('face.xml')\n",
      "face1.show(width=3)\n",
      "face2 = img2.findHaarFeatures('face.xml')\n",
      "face2.show(width=3)\n"
     ],
     "language": "python",
     "metadata": {},
     "outputs": []
    },
    {
     "cell_type": "code",
     "collapsed": false,
     "input": [
      "def swap(img1,f1,img2,f2):\n",
      "    f1mask = f1.crop().resize(w=f1.width(),h=f1.height())\n",
      "    f2mask = f2.crop().resize(w=f1.width(),h=f1.height())\n",
      "    out1 = img1.blit(f2mask,f1.topLeftCorner(),alpha=0.8)\n",
      "    out2 = img2.blit(f1mask,f2.topLeftCorner(),alpha=0.8)\n",
      "    return out1,out2\n",
      "img3, img4 = swap(img1,face1[0],img2,face2[0])\n",
      "img3.show()\n",
      "img3.resize(w=480).save('swap1.png')\n",
      "img4.show()\n",
      "img4.resize(w=480).save('swap2.png')\n"
     ],
     "language": "python",
     "metadata": {},
     "outputs": []
    },
    {
     "cell_type": "code",
     "collapsed": false,
     "input": [
      "#People like to look at themselves \n",
      "# give them tools to do that. \n",
      "img = Image('picard.jpg')\n",
      "blobs = img.findSkintoneBlobs()\n",
      "blobs = blobs[-1:]\n",
      "for b in blobs:\n",
      "    b.draw(color=Color.GREEN,alpha=128,width=-1)\n",
      "img.show()\n",
      "img.listHaarFeatures()"
     ],
     "language": "python",
     "metadata": {},
     "outputs": []
    },
    {
     "cell_type": "code",
     "collapsed": false,
     "input": [
      "mouth = img.findHaarFeatures('mouth.xml')\n",
      "mustache = Image('stash.png')\n",
      "mustache = mustache.resize(mouth[0].width())\n",
      "tl = mouth[0].topLeftCorner()\n",
      "pos = (tl[0],tl[1]-10)\n",
      "img = img.blit(mustache,pos,mask=mustache.invert())\n",
      "eye = img.findHaarFeatures('eye.xml')\n",
      "img.drawCircle((eye[1].x,eye[1].y),30,thickness=4,color=Color.BLACK)\n",
      "img.show()"
     ],
     "language": "python",
     "metadata": {},
     "outputs": []
    },
    {
     "cell_type": "code",
     "collapsed": false,
     "input": [
      "#Let's apply face tracking to something cool. "
     ],
     "language": "python",
     "metadata": {},
     "outputs": []
    },
    {
     "cell_type": "code",
     "collapsed": false,
     "input": [],
     "language": "python",
     "metadata": {},
     "outputs": []
    },
    {
     "cell_type": "code",
     "collapsed": false,
     "input": [
      "# SO it it 530 and I know one thing is on everyone's mind\n",
      "# Machine learning\n",
      "# no wait ...\n",
      "# beer\n",
      "# So let's combine the two.\n",
      "img = Image('beer.jpg')\n",
      "img.drawText('Machine Learning',10,10,color=Color.BLUE,fontsize=64)\n",
      "img.show()"
     ],
     "language": "python",
     "metadata": {},
     "outputs": []
    },
    {
     "cell_type": "code",
     "collapsed": false,
     "input": [
      "cd .."
     ],
     "language": "python",
     "metadata": {},
     "outputs": []
    },
    {
     "cell_type": "code",
     "collapsed": false,
     "input": [
      "# Let's see if we can visually classify drinks\n",
      "# Already downloaded three image sets, beer, wine, and whiskey\n",
      "# put them in directories \n",
      "hhfe = HueHistogramFeatureExtractor()# look at color\n",
      "ehfe = EdgeHistogramFeatureExtractor() # look at edges\n",
      "haarfe = HaarLikeFeatureExtractor('../../../SimpleCV/SimpleCV/Features/haar.txt')\n",
      "extractors = [hhfe,ehfe,haarfe] # put these all together\n",
      "svm = SVMClassifier(extractors) # try an svm, default is an RBF kernel function\n",
      "tree = TreeClassifier(extractors) # also try a decision tree\n",
      "trainPaths = ['./data/wine/train/','./data/beer/train/','./data/whiskey/train']\n",
      "testPaths = ['./data/wine/test/','./data/beer/test/','./data/whiskey/test/']\n",
      "# define the names of our classes\n",
      "classes = ['wine','beer','whiskey']\n",
      "# train the data\n",
      "print svm.train(trainPaths,classes,verbose=True)\n",
      "print tree.train(trainPaths,classes,verbose=True)\n",
      "print \"----------------------------------------\"\n",
      "# now run it against our test data.\n",
      "print svm.test(testPaths,classes,verbose=True)\n",
      "print tree.test(testPaths,classes,verbose=True)"
     ],
     "language": "python",
     "metadata": {},
     "outputs": []
    },
    {
     "cell_type": "code",
     "collapsed": false,
     "input": [
      "# But let's see what that looks like.\n",
      "import random\n",
      "test = ImageSet()\n",
      "for p in trainPaths: # load the data\n",
      "    test += ImageSet(p)\n",
      "random.shuffle(test) # shuffle it\n",
      "test = test[0:10] # pick ten off the top\n",
      "for t in test:\n",
      "    className = tree.classify(t) # classify them\n",
      "    t.drawText(className,10,10,fontsize=60,color=Color.RED)\n",
      "    t.show()"
     ],
     "language": "python",
     "metadata": {},
     "outputs": []
    },
    {
     "cell_type": "code",
     "collapsed": false,
     "input": [],
     "language": "python",
     "metadata": {},
     "outputs": []
    }
   ],
   "metadata": {}
  }
 ]
}